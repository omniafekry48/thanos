{
 "cells": [
  {
   "cell_type": "code",
   "execution_count": 29,
   "metadata": {},
   "outputs": [],
   "source": [
    "import os\n",
    "import random\n",
    "import time\n",
    "\n",
    "os.chdir('C:/Users/start/Documents/Epsilon/Python Scripts/assignment/Thanos project')\n",
    "\n",
    "def get_files(path):\n",
    "    return os.listdir('universe')\n",
    "\n",
    "def removed_files(path):\n",
    "    l=len(get_files(path=path)) // 2\n",
    "    \n",
    "    for i in range(l):\n",
    "        file_chosen=random.choice(get_files(path=path))\n",
    "        os.remove(f'{path}/{file_chosen}')\n",
    "    \n",
    "        time.sleep(1)\n",
    "        \n",
    "        print(f'{file_chosen} is removed ')"
   ]
  },
  {
   "cell_type": "code",
   "execution_count": 30,
   "metadata": {},
   "outputs": [
    {
     "name": "stdout",
     "output_type": "stream",
     "text": [
      "cover034.png is removed \n",
      "cover024.png is removed \n",
      "cover009.png is removed \n",
      "cover037.png is removed \n",
      "cover004.png is removed \n",
      "cover003.png is removed \n",
      "cover048.png is removed \n",
      "cover042.png is removed \n",
      "cover044.png is removed \n",
      "cover012.png is removed \n",
      "cover033.png is removed \n",
      "cover020.png is removed \n",
      "cover041.png is removed \n",
      "cover021.png is removed \n",
      "cover043.png is removed \n",
      "cover019.png is removed \n",
      "cover018.png is removed \n",
      "cover045.png is removed \n",
      "cover007.png is removed \n",
      "cover006.png is removed \n",
      "cover014.png is removed \n",
      "cover035.png is removed \n",
      "cover016.png is removed \n",
      "cover005.png is removed \n"
     ]
    }
   ],
   "source": [
    "removed_files('universe')"
   ]
  },
  {
   "cell_type": "code",
   "execution_count": null,
   "metadata": {},
   "outputs": [],
   "source": []
  }
 ],
 "metadata": {
  "kernelspec": {
   "display_name": "Python 3",
   "language": "python",
   "name": "python3"
  },
  "language_info": {
   "codemirror_mode": {
    "name": "ipython",
    "version": 3
   },
   "file_extension": ".py",
   "mimetype": "text/x-python",
   "name": "python",
   "nbconvert_exporter": "python",
   "pygments_lexer": "ipython3",
   "version": "3.7.6"
  }
 },
 "nbformat": 4,
 "nbformat_minor": 4
}
